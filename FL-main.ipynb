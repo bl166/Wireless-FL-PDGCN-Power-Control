{
 "cells": [
  {
   "cell_type": "code",
   "execution_count": null,
   "metadata": {},
   "outputs": [],
   "source": [
    "%load_ext autoreload\n",
    "%autoreload 2\n",
    "\n",
    "import numpy as np\n",
    "import torch\n",
    "import torchvision\n",
    "import torch.nn as nn\n",
    "import torch.nn.functional as F\n",
    "from tqdm.notebook import trange\n",
    "\n",
    "import os\n",
    "import gc\n",
    "import sys\n",
    "import h5py\n",
    "import pickle\n",
    "import numpy as np\n",
    "import itertools as it\n",
    "from tqdm.auto import trange,tqdm\n",
    "from sklearn.model_selection import StratifiedKFold\n",
    "from torch.utils.data import TensorDataset, DataLoader\n",
    "import matplotlib.pyplot as plt\n",
    "\n",
    "import sys, os\n",
    "sys.path.append(os.path.dirname(os.getcwd())+'/PDGNet')\n",
    "import sysmodels as sysm\n",
    "from sysmodels import WirelessModel, patternnet\n",
    "import utils #from utils import train, predict, initnw, weighted_selected_error_eval\n",
    "from baselines import pa_orthog\n",
    "from federated import *\n",
    "\n",
    "# B = 180e3\n",
    "# N0 = 1e-3 * 10**(-174/10)\n",
    "# F = 10**(3/10)\n",
    "# noise = B*N0*F\n",
    "# noise"
   ]
  },
  {
   "cell_type": "markdown",
   "metadata": {},
   "source": [
    "## load data"
   ]
  },
  {
   "cell_type": "code",
   "execution_count": null,
   "metadata": {},
   "outputs": [],
   "source": [
    "\n",
    "interf_scale = 1 # scale interference\n",
    "i0 = 20 # which pmax\n",
    "\n",
    "L = 8\n",
    "n_ant = 10#2\n",
    "M = 1#4\n",
    "tr_dist = 'Alessio' # Alessio | HataSuburban | HataSuburban-noSF | HataUrban | HataUrban-noSF\n",
    "te_dist = 'Alessio'\n",
    "\n",
    "device = torch.device('cuda')\n",
    "MODL_RT = \"/root/wireless-fl-icassp/results/]archive/models-nr10-pdg/\"\n",
    "DATA_RT = \"/root/wireless-fl/data/\"\n",
    "\n",
    "####################################################\n",
    "####################   DATA   ######################\n",
    "####################################################\n",
    "\n",
    "B = 1\n",
    "m = 0.023\n",
    "pdb = np.array(range(-40,10+1,1))\n",
    "indexing = np.delete(np.arange(L**2), np.arange(L**2)[::L+1])\n",
    "\n",
    "# add initial pt (max)\n",
    "attach_pt = lambda x: torch.from_numpy(np.hstack((utils.init_p(x[:,-1], L, method=\"full\"), x))).float().to(device)\n",
    "\n",
    "# move channel info to device\n",
    "dict_to_device = lambda x,dev: {k:v.to(dev) if isinstance(v, torch.Tensor) else v for k, v in x.items()}\n",
    "\n",
    "X, y, cinfo = {},{},{}\n",
    "for phase in ['tr','val','test']:\n",
    "    sufix = '' if phase=='tr' else phase+'-'\n",
    "    dfn = DATA_RT + f\"bs+{M}_ant+{n_ant}/{sufix}channels-{tr_dist}-{L}-1000.h5\" # train / validation data\n",
    "    X[phase],y[phase],cinfo[phase] = utils.load_data_unsup(dfn, hxp=False, num_stab=1e-12, PdB=pdb)\n",
    "    \n",
    "    X[phase] = attach_pt(X[phase])\n",
    "    X[phase][:,L:-1][:,indexing]*=interf_scale \n",
    "    \n",
    "    cinfo[phase] = dict_to_device(cinfo[phase], device)\n",
    "    print(phase, X[phase].shape, y[phase].shape)\n",
    "\n",
    "\n",
    "ph = 'test'\n",
    "H_mat = X[ph][i0::len(pdb),L:-1].cpu().numpy().reshape(-1,L,L) #* noise\n",
    "p_max = X[ph][i0::len(pdb),-1].cpu().numpy().reshape(-1)\n",
    "h_all = np.vstack([np.diag(H) for H in H_mat])\n",
    "beta_all = np.array(H_mat) \n",
    "for bi, b in enumerate(beta_all):\n",
    "    for i in range(b.shape[0]):\n",
    "        beta_all[bi, i, i]=0\n",
    "        \n",
    "\n",
    "FINALERROR = {}\n",
    "curr_task = 'AirQuality' # AirQuality | MNIST"
   ]
  },
  {
   "cell_type": "markdown",
   "metadata": {},
   "source": [
    "## for mnist classification"
   ]
  },
  {
   "cell_type": "code",
   "execution_count": 81,
   "metadata": {
    "scrolled": true
   },
   "outputs": [],
   "source": [
    "    \n",
    "\n",
    "if curr_task == 'MNIST':\n",
    "    \n",
    "    datanumber=(np.random.RandomState(42).randint(100,1000,L ) * 5).astype(int) #np.array([1000]*10)\n",
    "    k_weights = datanumber/datanumber.sum()\n",
    "\n",
    "    averagenumber = 10  ## Number of implementation of FL\n",
    "    iteration     = 50  ## Number of iterations for each FL implementation\n",
    "\n",
    "    numberofneuron = 50\n",
    "    in_size        = 784\n",
    "    out_size       = 10\n",
    "    msize = in_size*numberofneuron + numberofneuron*out_size + (numberofneuron+out_size) #=39760\n",
    "    Z = msize * 16 / 1024 / 1024    # Data size of each FL model, we assume that each element occupies 16 bits \n",
    "    sysmodel = WirelessModel(bandwidth=B)\n",
    "\n",
    "    drequirement = Z / 0.7 ## delay requirement\n",
    "    erequirement = Z / 55  ## energy requirement\n",
    "\n",
    "    # MINST data processing\n",
    "    batch_size_train = 16\n",
    "    batch_size_test = 1000\n",
    "    \n",
    "    train_set, test_set = utils.load_mnist('./datasets/')\n",
    "\n"
   ]
  },
  {
   "cell_type": "markdown",
   "metadata": {},
   "source": [
    "## for air quality reggression"
   ]
  },
  {
   "cell_type": "code",
   "execution_count": 83,
   "metadata": {},
   "outputs": [],
   "source": [
    "\n",
    "if curr_task == 'AirQuality':\n",
    "\n",
    "    datanumber=(np.random.RandomState(42).randint(100,1000,L ) / 5).astype(int) #np.array([1000]*10)\n",
    "    k_weights = datanumber/datanumber.sum()\n",
    "\n",
    "    averagenumber = 15  # Number of implementation of FL\n",
    "    iteration     = 50  # Number of iterations for each FL implementation\n",
    "\n",
    "    numberofneuron = 50\n",
    "    in_size        = 8\n",
    "    out_size       = 1\n",
    "    msize = in_size*numberofneuron + numberofneuron*out_size + (numberofneuron+out_size) #=39760\n",
    "    Z = msize * 16 / 1024 / 1024;    # Data size of each FL model, we assume that each element occupies 16 bits \n",
    "    sysmodel = WirelessModel(bandwidth=B)\n",
    "\n",
    "    drequirement = Z / 0.7  # delay requirement\n",
    "    erequirement = Z / 55   # energy requirement\n",
    "\n",
    "    # UCI AQ data processing \n",
    "    random_seed = 1\n",
    "    torch.backends.cudnn.enabled = False\n",
    "    torch.manual_seed(random_seed)\n",
    "\n",
    "    data_all  = pickle.load(open('./datasets/AirQualityUCI_proccessed.p','rb'))\n",
    "    batch_size_train = 8\n",
    "    batch_size_test = data_all['ntest']\n",
    "\n",
    "    class AirQualityDataset(torch.utils.data.Dataset):\n",
    "        \"\"\"Face Landmarks dataset.\"\"\"\n",
    "\n",
    "        def __init__(self, x, y):\n",
    "            \"\"\"\n",
    "            Args:\n",
    "                csv_file (string): Path to the csv file with annotations.\n",
    "                root_dir (string): Directory with all the images.\n",
    "                transform (callable, optional): Optional transform to be applied\n",
    "                    on a sample.\n",
    "            \"\"\"\n",
    "            self.data = x\n",
    "            self.targets = y\n",
    "\n",
    "        def __len__(self):\n",
    "            return len(self.data)\n",
    "\n",
    "        def __getitem__(self, idx):\n",
    "            return self.data[idx],self.targets[idx]\n",
    "\n",
    "    train_set = AirQualityDataset(data_all['X_train'], data_all['y_train']) # training data\n",
    "    test_set  = AirQualityDataset(data_all['X_test'] , data_all['y_test']) # test data\n"
   ]
  },
  {
   "cell_type": "code",
   "execution_count": 84,
   "metadata": {
    "scrolled": true
   },
   "outputs": [
    {
     "data": {
      "text/plain": [
       "672"
      ]
     },
     "execution_count": 84,
     "metadata": {},
     "output_type": "execute_result"
    }
   ],
   "source": [
    "inputs = {\n",
    "    'channels': (h_all, beta_all, p_max),\n",
    "    'fedtask' : (test_set, train_set, batch_size_train),\n",
    "    'require' : (drequirement, erequirement),\n",
    "    'configs' : (numberofneuron, in_size, out_size), # fed network configs\n",
    "}\n",
    "datanumber.sum()"
   ]
  },
  {
   "cell_type": "markdown",
   "metadata": {},
   "source": [
    "## ideal FL"
   ]
  },
  {
   "cell_type": "code",
   "execution_count": 85,
   "metadata": {
    "scrolled": true
   },
   "outputs": [
    {
     "data": {
      "application/vnd.jupyter.widget-view+json": {
       "model_id": "a3e3db6adecd481093a55946118e547e",
       "version_major": 2,
       "version_minor": 0
      },
      "text/plain": [
       "HBox(children=(HTML(value=''), FloatProgress(value=0.0, max=15.0), HTML(value='')))"
      ]
     },
     "metadata": {},
     "output_type": "display_data"
    },
    {
     "data": {
      "application/vnd.jupyter.widget-view+json": {
       "model_id": "74af276f4fc846b9bdfc2c8eb4a40979",
       "version_major": 2,
       "version_minor": 0
      },
      "text/plain": [
       "HBox(children=(HTML(value=''), FloatProgress(value=0.0, max=50.0), HTML(value='')))"
      ]
     },
     "metadata": {},
     "output_type": "display_data"
    },
    {
     "name": "stdout",
     "output_type": "stream",
     "text": [
      "49 44 0.869326865140961  \n",
      "Error at iter#50 is 0.8583758354466257\n"
     ]
    },
    {
     "data": {
      "application/vnd.jupyter.widget-view+json": {
       "model_id": "f43cc68bafc74670b9fdd5ac462b08ce",
       "version_major": 2,
       "version_minor": 0
      },
      "text/plain": [
       "HBox(children=(HTML(value=''), FloatProgress(value=0.0, max=50.0), HTML(value='')))"
      ]
     },
     "metadata": {},
     "output_type": "display_data"
    },
    {
     "name": "stdout",
     "output_type": "stream",
     "text": [
      "49 37 0.8550991496659495 \n",
      "Error at iter#50 is 0.8550991496659495\n"
     ]
    },
    {
     "data": {
      "application/vnd.jupyter.widget-view+json": {
       "model_id": "382e42e3385a411e9efb06714f56ea12",
       "version_major": 2,
       "version_minor": 0
      },
      "text/plain": [
       "HBox(children=(HTML(value=''), FloatProgress(value=0.0, max=50.0), HTML(value='')))"
      ]
     },
     "metadata": {},
     "output_type": "display_data"
    },
    {
     "name": "stdout",
     "output_type": "stream",
     "text": [
      "49 40 0.8716922978765366 \n",
      "Error at iter#50 is 0.854376701180272\n"
     ]
    },
    {
     "data": {
      "application/vnd.jupyter.widget-view+json": {
       "model_id": "0b4992da216844eeb2832f5d6f3356ca",
       "version_major": 2,
       "version_minor": 0
      },
      "text/plain": [
       "HBox(children=(HTML(value=''), FloatProgress(value=0.0, max=50.0), HTML(value='')))"
      ]
     },
     "metadata": {},
     "output_type": "display_data"
    },
    {
     "name": "stdout",
     "output_type": "stream",
     "text": [
      "49 42 0.862138673866111  \n",
      "Error at iter#50 is 0.8511934793224322\n"
     ]
    },
    {
     "data": {
      "application/vnd.jupyter.widget-view+json": {
       "model_id": "f905ea9e80444f4584b65033c4ad40f4",
       "version_major": 2,
       "version_minor": 0
      },
      "text/plain": [
       "HBox(children=(HTML(value=''), FloatProgress(value=0.0, max=50.0), HTML(value='')))"
      ]
     },
     "metadata": {},
     "output_type": "display_data"
    },
    {
     "name": "stdout",
     "output_type": "stream",
     "text": [
      "49 46 0.8701893854639327 \n",
      "Error at iter#50 is 0.8591148329440831\n"
     ]
    },
    {
     "data": {
      "application/vnd.jupyter.widget-view+json": {
       "model_id": "ace6aaf3c6174a91bef13244313a3c3f",
       "version_major": 2,
       "version_minor": 0
      },
      "text/plain": [
       "HBox(children=(HTML(value=''), FloatProgress(value=0.0, max=50.0), HTML(value='')))"
      ]
     },
     "metadata": {},
     "output_type": "display_data"
    },
    {
     "name": "stdout",
     "output_type": "stream",
     "text": [
      "49 35 0.8846652413993724 \n",
      "Error at iter#50 is 0.8724562932410284\n"
     ]
    },
    {
     "data": {
      "application/vnd.jupyter.widget-view+json": {
       "model_id": "323427d2f2274cf5b5a8e6bb58a56e17",
       "version_major": 2,
       "version_minor": 0
      },
      "text/plain": [
       "HBox(children=(HTML(value=''), FloatProgress(value=0.0, max=50.0), HTML(value='')))"
      ]
     },
     "metadata": {},
     "output_type": "display_data"
    },
    {
     "name": "stdout",
     "output_type": "stream",
     "text": [
      "49 10 0.8788603707100926 \n",
      "Error at iter#50 is 0.8561407437196253\n"
     ]
    },
    {
     "data": {
      "application/vnd.jupyter.widget-view+json": {
       "model_id": "a9aef567b1ba48cbb528d44e2512afd2",
       "version_major": 2,
       "version_minor": 0
      },
      "text/plain": [
       "HBox(children=(HTML(value=''), FloatProgress(value=0.0, max=50.0), HTML(value='')))"
      ]
     },
     "metadata": {},
     "output_type": "display_data"
    },
    {
     "name": "stdout",
     "output_type": "stream",
     "text": [
      "49 47 0.8909177800849131 \n",
      "Error at iter#50 is 0.8421064192715351\n"
     ]
    },
    {
     "data": {
      "application/vnd.jupyter.widget-view+json": {
       "model_id": "7baacc17735946a7a2d700ce644957d9",
       "version_major": 2,
       "version_minor": 0
      },
      "text/plain": [
       "HBox(children=(HTML(value=''), FloatProgress(value=0.0, max=50.0), HTML(value='')))"
      ]
     },
     "metadata": {},
     "output_type": "display_data"
    },
    {
     "name": "stdout",
     "output_type": "stream",
     "text": [
      "49 3 0.8663443513159579  \n",
      "Error at iter#50 is 0.8565627814608713\n"
     ]
    },
    {
     "data": {
      "application/vnd.jupyter.widget-view+json": {
       "model_id": "2dbf56b618354c60a67a0595422330a5",
       "version_major": 2,
       "version_minor": 0
      },
      "text/plain": [
       "HBox(children=(HTML(value=''), FloatProgress(value=0.0, max=50.0), HTML(value='')))"
      ]
     },
     "metadata": {},
     "output_type": "display_data"
    },
    {
     "name": "stdout",
     "output_type": "stream",
     "text": [
      "49 28 0.8883045820864176 \n",
      "Error at iter#50 is 0.8656458167041627\n"
     ]
    },
    {
     "data": {
      "application/vnd.jupyter.widget-view+json": {
       "model_id": "d8ab05b2e4ae4c6ea89bc278fbc3e6a2",
       "version_major": 2,
       "version_minor": 0
      },
      "text/plain": [
       "HBox(children=(HTML(value=''), FloatProgress(value=0.0, max=50.0), HTML(value='')))"
      ]
     },
     "metadata": {},
     "output_type": "display_data"
    },
    {
     "name": "stdout",
     "output_type": "stream",
     "text": [
      "49 9 0.8700895123088955  \n",
      "Error at iter#50 is 0.8547373392752338\n"
     ]
    },
    {
     "data": {
      "application/vnd.jupyter.widget-view+json": {
       "model_id": "e8745b195b7e4ef993c7ccb918e9b621",
       "version_major": 2,
       "version_minor": 0
      },
      "text/plain": [
       "HBox(children=(HTML(value=''), FloatProgress(value=0.0, max=50.0), HTML(value='')))"
      ]
     },
     "metadata": {},
     "output_type": "display_data"
    },
    {
     "name": "stdout",
     "output_type": "stream",
     "text": [
      "49 25 0.8657796618287494 \n",
      "Error at iter#50 is 0.8582151735941965\n"
     ]
    },
    {
     "data": {
      "application/vnd.jupyter.widget-view+json": {
       "model_id": "f699badfc9cd48ce8771e69d8c8cf628",
       "version_major": 2,
       "version_minor": 0
      },
      "text/plain": [
       "HBox(children=(HTML(value=''), FloatProgress(value=0.0, max=50.0), HTML(value='')))"
      ]
     },
     "metadata": {},
     "output_type": "display_data"
    },
    {
     "name": "stdout",
     "output_type": "stream",
     "text": [
      "49 11 0.8643379131202671 \n",
      "Error at iter#50 is 0.8631958725081075\n"
     ]
    },
    {
     "data": {
      "application/vnd.jupyter.widget-view+json": {
       "model_id": "9cdfff57f29848f1a4431351d7f9007c",
       "version_major": 2,
       "version_minor": 0
      },
      "text/plain": [
       "HBox(children=(HTML(value=''), FloatProgress(value=0.0, max=50.0), HTML(value='')))"
      ]
     },
     "metadata": {},
     "output_type": "display_data"
    },
    {
     "name": "stdout",
     "output_type": "stream",
     "text": [
      "49 18 0.864236708561192  \n",
      "Error at iter#50 is 0.858589541673977\n"
     ]
    },
    {
     "data": {
      "application/vnd.jupyter.widget-view+json": {
       "model_id": "01e5a74cebce4eb8b8cd47a4ebdaafcd",
       "version_major": 2,
       "version_minor": 0
      },
      "text/plain": [
       "HBox(children=(HTML(value=''), FloatProgress(value=0.0, max=50.0), HTML(value='')))"
      ]
     },
     "metadata": {},
     "output_type": "display_data"
    },
    {
     "name": "stdout",
     "output_type": "stream",
     "text": [
      "49 43 0.8695594035866478 \n",
      "Error at iter#50 is 0.8620408411617759\n",
      "\n"
     ]
    }
   ],
   "source": [
    "FINALERROR['Ideal FL'], global_net, num_sel = FL_main(\n",
    "    inputs        = inputs,\n",
    "    fl_task       = curr_task, #'AirQuality', 'MNIST',\n",
    "    allocation_scheme = 'Ideal FL',\n",
    "    usernumber    = L, \n",
    "    availnumber   = L,\n",
    "    datanumber    = datanumber,\n",
    "    iteration     = iteration, \n",
    "    iter_epochs   = 1,\n",
    "    iter_iters    = iter_iters,\n",
    "    averagenumber = averagenumber,\n",
    "    seed          = 0\n",
    ")"
   ]
  },
  {
   "cell_type": "code",
   "execution_count": 9,
   "metadata": {},
   "outputs": [
    {
     "name": "stdout",
     "output_type": "stream",
     "text": [
      "Predicted air quality: 4.8878984451293945\n",
      "Actual air quality: tensor([6.])\n"
     ]
    },
    {
     "data": {
      "image/png": "[encoded data removed]",
      "text/plain": [
       "<Figure size 432x288 with 1 Axes>"
      ]
     },
     "metadata": {
      "needs_background": "light"
     },
     "output_type": "display_data"
    }
   ],
   "source": [
    "if curr_task == 'AirQuality':\n",
    "    net = global_net\n",
    "    sample_tensor = test_set.data[[23]]\n",
    "    y_pred = net.model(sample_tensor)\n",
    "    print(f'Predicted air quality: {y_pred.item()}')\n",
    "    print(f'Actual air quality: {test_set.targets[23]}')\n",
    "\n",
    "    y_pred_tensor = net.model(test_set.data) # test predictions on full model\n",
    "    y_pred = y_pred_tensor.detach().numpy() # detach and convert to np array\n",
    "\n",
    "    plt.scatter(test_set.targets, y_pred)\n",
    "    plt.xlabel(\"Actual Value\")\n",
    "    plt.ylabel(\"Predicted Value\")\n",
    "    plt.title(\"Predicted value vs Actual value\")\n",
    "    plt.show()"
   ]
  },
  {
   "cell_type": "markdown",
   "metadata": {},
   "source": [
    "## RAND POWER"
   ]
  },
  {
   "cell_type": "code",
   "execution_count": 10,
   "metadata": {
    "scrolled": true
   },
   "outputs": [
    {
     "data": {
      "application/vnd.jupyter.widget-view+json": {
       "model_id": "a0f3e8cbd59a4b3590dd9ae40104af1e",
       "version_major": 2,
       "version_minor": 0
      },
      "text/plain": [
       "HBox(children=(HTML(value=''), FloatProgress(value=0.0, max=15.0), HTML(value='')))"
      ]
     },
     "metadata": {},
     "output_type": "display_data"
    },
    {
     "data": {
      "application/vnd.jupyter.widget-view+json": {
       "model_id": "98defe6a21cd4ddd878ffd118d1cb728",
       "version_major": 2,
       "version_minor": 0
      },
      "text/plain": [
       "HBox(children=(HTML(value=''), FloatProgress(value=0.0, max=50.0), HTML(value='')))"
      ]
     },
     "metadata": {},
     "output_type": "display_data"
    },
    {
     "name": "stdout",
     "output_type": "stream",
     "text": [
      "49 44 4.058498113421455  \n",
      "Error at iter#50 is 1.9749011268493135\n"
     ]
    },
    {
     "data": {
      "application/vnd.jupyter.widget-view+json": {
       "model_id": "a8e6e7b6e33e455bbeb7ec2264eafca0",
       "version_major": 2,
       "version_minor": 0
      },
      "text/plain": [
       "HBox(children=(HTML(value=''), FloatProgress(value=0.0, max=50.0), HTML(value='')))"
      ]
     },
     "metadata": {},
     "output_type": "display_data"
    },
    {
     "name": "stdout",
     "output_type": "stream",
     "text": [
      "49 37 4.9256184223558535 \n",
      "Error at iter#50 is 2.5960480953751564\n"
     ]
    },
    {
     "data": {
      "application/vnd.jupyter.widget-view+json": {
       "model_id": "5fc277ac65004e85a5eba306546021e8",
       "version_major": 2,
       "version_minor": 0
      },
      "text/plain": [
       "HBox(children=(HTML(value=''), FloatProgress(value=0.0, max=50.0), HTML(value='')))"
      ]
     },
     "metadata": {},
     "output_type": "display_data"
    },
    {
     "name": "stdout",
     "output_type": "stream",
     "text": [
      "49 40 3.790329554177639  \n",
      "Error at iter#50 is 2.124506837054119\n"
     ]
    },
    {
     "data": {
      "application/vnd.jupyter.widget-view+json": {
       "model_id": "80f2fb2544f5430abe580a9b898e334d",
       "version_major": 2,
       "version_minor": 0
      },
      "text/plain": [
       "HBox(children=(HTML(value=''), FloatProgress(value=0.0, max=50.0), HTML(value='')))"
      ]
     },
     "metadata": {},
     "output_type": "display_data"
    },
    {
     "name": "stdout",
     "output_type": "stream",
     "text": [
      "49 42 3.150671533121017  \n",
      "Error at iter#50 is 1.476506550046742\n"
     ]
    },
    {
     "data": {
      "application/vnd.jupyter.widget-view+json": {
       "model_id": "250b5c71688a49389164203e67002716",
       "version_major": 2,
       "version_minor": 0
      },
      "text/plain": [
       "HBox(children=(HTML(value=''), FloatProgress(value=0.0, max=50.0), HTML(value='')))"
      ]
     },
     "metadata": {},
     "output_type": "display_data"
    },
    {
     "name": "stdout",
     "output_type": "stream",
     "text": [
      "49 46 2.2890505220796364 \n",
      "Error at iter#50 is 1.1155688423960841\n"
     ]
    },
    {
     "data": {
      "application/vnd.jupyter.widget-view+json": {
       "model_id": "9eac8b4a4b8b4240b09c1327b386e8ca",
       "version_major": 2,
       "version_minor": 0
      },
      "text/plain": [
       "HBox(children=(HTML(value=''), FloatProgress(value=0.0, max=50.0), HTML(value='')))"
      ]
     },
     "metadata": {},
     "output_type": "display_data"
    },
    {
     "name": "stdout",
     "output_type": "stream",
     "text": [
      "49 35 4.659800155349258  \n",
      "Error at iter#50 is 1.5122559847127603\n"
     ]
    },
    {
     "data": {
      "application/vnd.jupyter.widget-view+json": {
       "model_id": "0d8bc68bd2944bd0b102790ce3182192",
       "version_major": 2,
       "version_minor": 0
      },
      "text/plain": [
       "HBox(children=(HTML(value=''), FloatProgress(value=0.0, max=50.0), HTML(value='')))"
      ]
     },
     "metadata": {},
     "output_type": "display_data"
    },
    {
     "name": "stdout",
     "output_type": "stream",
     "text": [
      "49 10 2.8308825458616886 \n",
      "Error at iter#50 is 2.2017936200780173\n"
     ]
    },
    {
     "data": {
      "application/vnd.jupyter.widget-view+json": {
       "model_id": "491a7430ff884379bc83440f801d8c37",
       "version_major": 2,
       "version_minor": 0
      },
      "text/plain": [
       "HBox(children=(HTML(value=''), FloatProgress(value=0.0, max=50.0), HTML(value='')))"
      ]
     },
     "metadata": {},
     "output_type": "display_data"
    },
    {
     "name": "stdout",
     "output_type": "stream",
     "text": [
      "49 47 4.1220516881316405 \n",
      "Error at iter#50 is 1.3996286274306877\n"
     ]
    },
    {
     "data": {
      "application/vnd.jupyter.widget-view+json": {
       "model_id": "ac132aa6b19c4f27a5742dfc2a60167a",
       "version_major": 2,
       "version_minor": 0
      },
      "text/plain": [
       "HBox(children=(HTML(value=''), FloatProgress(value=0.0, max=50.0), HTML(value='')))"
      ]
     },
     "metadata": {},
     "output_type": "display_data"
    },
    {
     "name": "stdout",
     "output_type": "stream",
     "text": [
      "49 3 2.184020408479124   \n",
      "Error at iter#50 is 1.749072169525424\n"
     ]
    },
    {
     "data": {
      "application/vnd.jupyter.widget-view+json": {
       "model_id": "5a2a2657f62a48c88190c6b47eab06cd",
       "version_major": 2,
       "version_minor": 0
      },
      "text/plain": [
       "HBox(children=(HTML(value=''), FloatProgress(value=0.0, max=50.0), HTML(value='')))"
      ]
     },
     "metadata": {},
     "output_type": "display_data"
    },
    {
     "name": "stdout",
     "output_type": "stream",
     "text": [
      "49 28 2.2942825530694977 \n",
      "Error at iter#50 is 2.2942825530694977\n"
     ]
    },
    {
     "data": {
      "application/vnd.jupyter.widget-view+json": {
       "model_id": "380040dd6807400e9ef71cae0bb6dcd0",
       "version_major": 2,
       "version_minor": 0
      },
      "text/plain": [
       "HBox(children=(HTML(value=''), FloatProgress(value=0.0, max=50.0), HTML(value='')))"
      ]
     },
     "metadata": {},
     "output_type": "display_data"
    },
    {
     "name": "stdout",
     "output_type": "stream",
     "text": [
      "49 9 3.4825802957954317  \n",
      "Error at iter#50 is 2.089625381041602\n"
     ]
    },
    {
     "data": {
      "application/vnd.jupyter.widget-view+json": {
       "model_id": "a5bbb21fce5a4c4cad91aeb257fd8f95",
       "version_major": 2,
       "version_minor": 0
      },
      "text/plain": [
       "HBox(children=(HTML(value=''), FloatProgress(value=0.0, max=50.0), HTML(value='')))"
      ]
     },
     "metadata": {},
     "output_type": "display_data"
    },
    {
     "name": "stdout",
     "output_type": "stream",
     "text": [
      "49 25 4.452198668387124  \n",
      "Error at iter#50 is 2.5752686369680484\n"
     ]
    },
    {
     "data": {
      "application/vnd.jupyter.widget-view+json": {
       "model_id": "87a8d71fd21c4fd3b3dc5dc8543b4bfc",
       "version_major": 2,
       "version_minor": 0
      },
      "text/plain": [
       "HBox(children=(HTML(value=''), FloatProgress(value=0.0, max=50.0), HTML(value='')))"
      ]
     },
     "metadata": {},
     "output_type": "display_data"
    },
    {
     "name": "stdout",
     "output_type": "stream",
     "text": [
      "49 11 1.6420220376091237 \n",
      "Error at iter#50 is 1.1803655128602708\n"
     ]
    },
    {
     "data": {
      "application/vnd.jupyter.widget-view+json": {
       "model_id": "3ce29d5c4b5e4f47b849a22ff6e7b5d2",
       "version_major": 2,
       "version_minor": 0
      },
      "text/plain": [
       "HBox(children=(HTML(value=''), FloatProgress(value=0.0, max=50.0), HTML(value='')))"
      ]
     },
     "metadata": {},
     "output_type": "display_data"
    },
    {
     "name": "stdout",
     "output_type": "stream",
     "text": [
      "49 18 3.9570953574829217 \n",
      "Error at iter#50 is 2.261874020637665\n"
     ]
    },
    {
     "data": {
      "application/vnd.jupyter.widget-view+json": {
       "model_id": "1515589d76dc4c418a0cd54c1ed6cf51",
       "version_major": 2,
       "version_minor": 0
      },
      "text/plain": [
       "HBox(children=(HTML(value=''), FloatProgress(value=0.0, max=50.0), HTML(value='')))"
      ]
     },
     "metadata": {},
     "output_type": "display_data"
    },
    {
     "name": "stdout",
     "output_type": "stream",
     "text": [
      "49 43 2.6891676585744615 \n",
      "Error at iter#50 is 1.3796744651653907\n",
      "\n"
     ]
    }
   ],
   "source": [
    "FINALERROR['Rand'], global_net_rand, num_sel_rand = FL_main(\n",
    "    inputs        = inputs,\n",
    "    fl_task       = curr_task,\n",
    "    allocation_scheme = 'Rand',\n",
    "    usernumber    = L, \n",
    "    availnumber   = L,\n",
    "    datanumber    = datanumber,\n",
    "    iteration     = iteration,\n",
    "    iter_epochs   = 1,\n",
    "    averagenumber = averagenumber,\n",
    "    seed          = 0\n",
    "    )"
   ]
  },
  {
   "cell_type": "markdown",
   "metadata": {},
   "source": [
    "## ORTH POWER"
   ]
  },
  {
   "cell_type": "code",
   "execution_count": 11,
   "metadata": {
    "scrolled": true
   },
   "outputs": [
    {
     "data": {
      "application/vnd.jupyter.widget-view+json": {
       "model_id": "fbd13702a8de48948a53e6550eb396cf",
       "version_major": 2,
       "version_minor": 0
      },
      "text/plain": [
       "HBox(children=(HTML(value=''), FloatProgress(value=0.0, max=15.0), HTML(value='')))"
      ]
     },
     "metadata": {},
     "output_type": "display_data"
    },
    {
     "data": {
      "application/vnd.jupyter.widget-view+json": {
       "model_id": "b604bf491687479e8306a8d8825c767a",
       "version_major": 2,
       "version_minor": 0
      },
      "text/plain": [
       "HBox(children=(HTML(value=''), FloatProgress(value=0.0, max=50.0), HTML(value='')))"
      ]
     },
     "metadata": {},
     "output_type": "display_data"
    },
    {
     "name": "stdout",
     "output_type": "stream",
     "text": [
      "49 44 3.415256178087215  \n",
      "Error at iter#50 is 2.3841615953850392\n"
     ]
    },
    {
     "data": {
      "application/vnd.jupyter.widget-view+json": {
       "model_id": "b03c6de875f04d72b71f3da307900a74",
       "version_major": 2,
       "version_minor": 0
      },
      "text/plain": [
       "HBox(children=(HTML(value=''), FloatProgress(value=0.0, max=50.0), HTML(value='')))"
      ]
     },
     "metadata": {},
     "output_type": "display_data"
    },
    {
     "name": "stdout",
     "output_type": "stream",
     "text": [
      "49 37 3.5599007744837388 \n",
      "Error at iter#50 is 1.2515010404319569\n"
     ]
    },
    {
     "data": {
      "application/vnd.jupyter.widget-view+json": {
       "model_id": "216eac495ad144e5ac6c4ebc8d8e4d9f",
       "version_major": 2,
       "version_minor": 0
      },
      "text/plain": [
       "HBox(children=(HTML(value=''), FloatProgress(value=0.0, max=50.0), HTML(value='')))"
      ]
     },
     "metadata": {},
     "output_type": "display_data"
    },
    {
     "name": "stdout",
     "output_type": "stream",
     "text": [
      "49 40 3.5533914404072857 \n",
      "Error at iter#50 is 1.6113370767980506\n"
     ]
    },
    {
     "data": {
      "application/vnd.jupyter.widget-view+json": {
       "model_id": "154b56a22ee3464cbc43f162d768fc96",
       "version_major": 2,
       "version_minor": 0
      },
      "text/plain": [
       "HBox(children=(HTML(value=''), FloatProgress(value=0.0, max=50.0), HTML(value='')))"
      ]
     },
     "metadata": {},
     "output_type": "display_data"
    },
    {
     "name": "stdout",
     "output_type": "stream",
     "text": [
      "49 42 3.723305740618484  \n",
      "Error at iter#50 is 1.1954550066003262\n"
     ]
    },
    {
     "data": {
      "application/vnd.jupyter.widget-view+json": {
       "model_id": "cb0403bdc0fd4c6591e0e2c91e15a508",
       "version_major": 2,
       "version_minor": 0
      },
      "text/plain": [
       "HBox(children=(HTML(value=''), FloatProgress(value=0.0, max=50.0), HTML(value='')))"
      ]
     },
     "metadata": {},
     "output_type": "display_data"
    },
    {
     "name": "stdout",
     "output_type": "stream",
     "text": [
      "49 46 3.765582958952299  \n",
      "Error at iter#50 is 1.4655005038158706\n"
     ]
    },
    {
     "data": {
      "application/vnd.jupyter.widget-view+json": {
       "model_id": "accc1291c0dd442f9ed1e3e500725820",
       "version_major": 2,
       "version_minor": 0
      },
      "text/plain": [
       "HBox(children=(HTML(value=''), FloatProgress(value=0.0, max=50.0), HTML(value='')))"
      ]
     },
     "metadata": {},
     "output_type": "display_data"
    },
    {
     "name": "stdout",
     "output_type": "stream",
     "text": [
      "49 35 3.603284444862545  \n",
      "Error at iter#50 is 1.2037164299582879\n"
     ]
    },
    {
     "data": {
      "application/vnd.jupyter.widget-view+json": {
       "model_id": "f31d99ce2b1f429c99c01d10c4c43ca3",
       "version_major": 2,
       "version_minor": 0
      },
      "text/plain": [
       "HBox(children=(HTML(value=''), FloatProgress(value=0.0, max=50.0), HTML(value='')))"
      ]
     },
     "metadata": {},
     "output_type": "display_data"
    },
    {
     "name": "stdout",
     "output_type": "stream",
     "text": [
      "49 10 3.764946967532871  \n",
      "Error at iter#50 is 1.7811027599849416\n"
     ]
    },
    {
     "data": {
      "application/vnd.jupyter.widget-view+json": {
       "model_id": "08569d5ae0804369b6034c051ac74ae3",
       "version_major": 2,
       "version_minor": 0
      },
      "text/plain": [
       "HBox(children=(HTML(value=''), FloatProgress(value=0.0, max=50.0), HTML(value='')))"
      ]
     },
     "metadata": {},
     "output_type": "display_data"
    },
    {
     "name": "stdout",
     "output_type": "stream",
     "text": [
      "49 47 3.466134399731487  \n",
      "Error at iter#50 is 1.5269162099166815\n"
     ]
    },
    {
     "data": {
      "application/vnd.jupyter.widget-view+json": {
       "model_id": "c3c0820894554e31948b5ce4269b548d",
       "version_major": 2,
       "version_minor": 0
      },
      "text/plain": [
       "HBox(children=(HTML(value=''), FloatProgress(value=0.0, max=50.0), HTML(value='')))"
      ]
     },
     "metadata": {},
     "output_type": "display_data"
    },
    {
     "name": "stdout",
     "output_type": "stream",
     "text": [
      "49 3 2.8127539626007065  \n",
      "Error at iter#50 is 1.5890572966993994\n"
     ]
    },
    {
     "data": {
      "application/vnd.jupyter.widget-view+json": {
       "model_id": "83cafaf0c1a746bbba74239993ec37e4",
       "version_major": 2,
       "version_minor": 0
      },
      "text/plain": [
       "HBox(children=(HTML(value=''), FloatProgress(value=0.0, max=50.0), HTML(value='')))"
      ]
     },
     "metadata": {},
     "output_type": "display_data"
    },
    {
     "name": "stdout",
     "output_type": "stream",
     "text": [
      "49 28 106.58964097181301 \n",
      "Error at iter#50 is 2.0656428810996226\n"
     ]
    },
    {
     "data": {
      "application/vnd.jupyter.widget-view+json": {
       "model_id": "14f2da8365f64b9bba54af3ef89d78ef",
       "version_major": 2,
       "version_minor": 0
      },
      "text/plain": [
       "HBox(children=(HTML(value=''), FloatProgress(value=0.0, max=50.0), HTML(value='')))"
      ]
     },
     "metadata": {},
     "output_type": "display_data"
    },
    {
     "name": "stdout",
     "output_type": "stream",
     "text": [
      "49 9 4.5358303728899365  \n",
      "Error at iter#50 is 1.1783283816983985\n"
     ]
    },
    {
     "data": {
      "application/vnd.jupyter.widget-view+json": {
       "model_id": "146c901554124046988b7a2a45f54c19",
       "version_major": 2,
       "version_minor": 0
      },
      "text/plain": [
       "HBox(children=(HTML(value=''), FloatProgress(value=0.0, max=50.0), HTML(value='')))"
      ]
     },
     "metadata": {},
     "output_type": "display_data"
    },
    {
     "name": "stdout",
     "output_type": "stream",
     "text": [
      "49 25 3.726530126914876  \n",
      "Error at iter#50 is 2.2935815151607346\n"
     ]
    },
    {
     "data": {
      "application/vnd.jupyter.widget-view+json": {
       "model_id": "6897bdb9577c4c2c8783f01b06972c01",
       "version_major": 2,
       "version_minor": 0
      },
      "text/plain": [
       "HBox(children=(HTML(value=''), FloatProgress(value=0.0, max=50.0), HTML(value='')))"
      ]
     },
     "metadata": {},
     "output_type": "display_data"
    },
    {
     "name": "stdout",
     "output_type": "stream",
     "text": [
      "49 11 3.8713796377231517 \n",
      "Error at iter#50 is 1.1625653566426173\n"
     ]
    },
    {
     "data": {
      "application/vnd.jupyter.widget-view+json": {
       "model_id": "9a03ccc1976e41919e79b92e940fcd74",
       "version_major": 2,
       "version_minor": 0
      },
      "text/plain": [
       "HBox(children=(HTML(value=''), FloatProgress(value=0.0, max=50.0), HTML(value='')))"
      ]
     },
     "metadata": {},
     "output_type": "display_data"
    },
    {
     "name": "stdout",
     "output_type": "stream",
     "text": [
      "49 18 60.33628093340689  \n",
      "Error at iter#50 is 1.8405500542451996\n"
     ]
    },
    {
     "data": {
      "application/vnd.jupyter.widget-view+json": {
       "model_id": "e8fd2e1a59674fb99b43407107060075",
       "version_major": 2,
       "version_minor": 0
      },
      "text/plain": [
       "HBox(children=(HTML(value=''), FloatProgress(value=0.0, max=50.0), HTML(value='')))"
      ]
     },
     "metadata": {},
     "output_type": "display_data"
    },
    {
     "name": "stdout",
     "output_type": "stream",
     "text": [
      "49 43 2.878664252411662  \n",
      "Error at iter#50 is 1.3413874238814325\n",
      "\n"
     ]
    }
   ],
   "source": [
    "FINALERROR['Orth'], _, num_sel_orth = FL_main(\n",
    "    inputs        = inputs,\n",
    "    fl_task       = curr_task,\n",
    "    allocation_scheme = 'Orth',\n",
    "    usernumber    = L, \n",
    "    availnumber   = L,\n",
    "    datanumber    = datanumber,\n",
    "    iteration     = iteration,\n",
    "    iter_epochs   = 1,\n",
    "    averagenumber = averagenumber,\n",
    "    seed          = 0\n",
    ")\n"
   ]
  },
  {
   "cell_type": "code",
   "execution_count": 12,
   "metadata": {},
   "outputs": [
    {
     "data": {
      "text/plain": [
       "[<matplotlib.lines.Line2D at 0x7f13c044e0d0>]"
      ]
     },
     "execution_count": 12,
     "metadata": {},
     "output_type": "execute_result"
    },
    {
     "data": {
      "image/png": "[encoded data removed]",
      "text/plain": [
       "<Figure size 432x288 with 1 Axes>"
      ]
     },
     "metadata": {
      "needs_background": "light"
     },
     "output_type": "display_data"
    }
   ],
   "source": [
    "[FINALERROR[k].sort(0) for k in FINALERROR.keys()]\n",
    "        \n",
    "tot1, tot2 = 8, 50\n",
    "plt.plot(FINALERROR['Ideal FL'][:tot1].mean(0)[:tot2])\n",
    "plt.plot(FINALERROR['Rand'][:tot1].mean(0)[:tot2])\n",
    "plt.plot(FINALERROR['Orth'][:tot1].mean(0)[:tot2])\n",
    "# plt.yscale('log')\n"
   ]
  },
  {
   "cell_type": "markdown",
   "metadata": {},
   "source": [
    "## MLP & GCN"
   ]
  },
  {
   "cell_type": "code",
   "execution_count": 13,
   "metadata": {},
   "outputs": [],
   "source": [
    "def per_from_learning_models(modeldir, numworker):\n",
    "    ## load model\n",
    "    mfile = modeldir + 'model_pd.pt'\n",
    "    mfilev = modeldir + 'model_pd-vio.pt'\n",
    "\n",
    "    inputdir_test = {\n",
    "        'Hx_dir':{\n",
    "            'Hx':X['test'][i0::51, :], \n",
    "            'edge_index':cinfo['test']['edge_index']\n",
    "        }, \n",
    "        'B':1, \n",
    "        'm':0.023\n",
    "    }\n",
    "    try:\n",
    "        model = torch.load(mfile)\n",
    "    except:\n",
    "        model = torch.load(mfilev)\n",
    "    model.eval()    \n",
    "\n",
    "    model.model.size = L\n",
    "    with torch.no_grad():\n",
    "        pt = model.allocate(inputdir_test['Hx_dir'])\n",
    "    finalq = sysm.f1(pt, inputdir_test['Hx_dir']['Hx'], inputdir_test['m'])\n",
    "    finalq_cond = (1-finalq*(pt>0)).cpu().numpy()   \n",
    "    return finalq_cond\n",
    "    "
   ]
  },
  {
   "cell_type": "code",
   "execution_count": 14,
   "metadata": {
    "scrolled": true
   },
   "outputs": [
    {
     "data": {
      "application/vnd.jupyter.widget-view+json": {
       "model_id": "47adc90ba47043b49f6199290fbdab4b",
       "version_major": 2,
       "version_minor": 0
      },
      "text/plain": [
       "HBox(children=(HTML(value=''), FloatProgress(value=0.0, max=15.0), HTML(value='')))"
      ]
     },
     "metadata": {},
     "output_type": "display_data"
    },
    {
     "data": {
      "application/vnd.jupyter.widget-view+json": {
       "model_id": "e24d928260c74fec9c872f82d0ba28e9",
       "version_major": 2,
       "version_minor": 0
      },
      "text/plain": [
       "HBox(children=(HTML(value=''), FloatProgress(value=0.0, max=50.0), HTML(value='')))"
      ]
     },
     "metadata": {},
     "output_type": "display_data"
    },
    {
     "name": "stdout",
     "output_type": "stream",
     "text": [
      "49 44 0.9553462863147374 \n",
      "Error at iter#50 is 0.9553462863147374\n"
     ]
    },
    {
     "data": {
      "application/vnd.jupyter.widget-view+json": {
       "model_id": "9e130ad860394758967ff57f3061f3d3",
       "version_major": 2,
       "version_minor": 0
      },
      "text/plain": [
       "HBox(children=(HTML(value=''), FloatProgress(value=0.0, max=50.0), HTML(value='')))"
      ]
     },
     "metadata": {},
     "output_type": "display_data"
    },
    {
     "name": "stdout",
     "output_type": "stream",
     "text": [
      "49 37 2.6094066138265495 \n",
      "Error at iter#50 is 1.1328957362671639\n"
     ]
    },
    {
     "data": {
      "application/vnd.jupyter.widget-view+json": {
       "model_id": "8248a1b27c8b4174b89eb629814a9242",
       "version_major": 2,
       "version_minor": 0
      },
      "text/plain": [
       "HBox(children=(HTML(value=''), FloatProgress(value=0.0, max=50.0), HTML(value='')))"
      ]
     },
     "metadata": {},
     "output_type": "display_data"
    },
    {
     "name": "stdout",
     "output_type": "stream",
     "text": [
      "49 40 1.9619407367174675 \n",
      "Error at iter#50 is 1.0511840275260809\n"
     ]
    },
    {
     "data": {
      "application/vnd.jupyter.widget-view+json": {
       "model_id": "dd6d4378726f45dd86546c2ba20b0d90",
       "version_major": 2,
       "version_minor": 0
      },
      "text/plain": [
       "HBox(children=(HTML(value=''), FloatProgress(value=0.0, max=50.0), HTML(value='')))"
      ]
     },
     "metadata": {},
     "output_type": "display_data"
    },
    {
     "name": "stdout",
     "output_type": "stream",
     "text": [
      "49 42 1.5772110964962067 \n",
      "Error at iter#50 is 0.9355133624037456\n"
     ]
    },
    {
     "data": {
      "application/vnd.jupyter.widget-view+json": {
       "model_id": "ad9527be6b984bcdaf853c990b7cf9db",
       "version_major": 2,
       "version_minor": 0
      },
      "text/plain": [
       "HBox(children=(HTML(value=''), FloatProgress(value=0.0, max=50.0), HTML(value='')))"
      ]
     },
     "metadata": {},
     "output_type": "display_data"
    },
    {
     "name": "stdout",
     "output_type": "stream",
     "text": [
      "49 46 1.7264867567476374 \n",
      "Error at iter#50 is 0.9161147854943812\n"
     ]
    },
    {
     "data": {
      "application/vnd.jupyter.widget-view+json": {
       "model_id": "775217fab49b4da49df0406888985d06",
       "version_major": 2,
       "version_minor": 0
      },
      "text/plain": [
       "HBox(children=(HTML(value=''), FloatProgress(value=0.0, max=50.0), HTML(value='')))"
      ]
     },
     "metadata": {},
     "output_type": "display_data"
    },
    {
     "name": "stdout",
     "output_type": "stream",
     "text": [
      "49 35 2.0514087116738935 \n",
      "Error at iter#50 is 1.1885919569755943\n"
     ]
    },
    {
     "data": {
      "application/vnd.jupyter.widget-view+json": {
       "model_id": "94a19e3e36e7458f8e0f8f0237ebb990",
       "version_major": 2,
       "version_minor": 0
      },
      "text/plain": [
       "HBox(children=(HTML(value=''), FloatProgress(value=0.0, max=50.0), HTML(value='')))"
      ]
     },
     "metadata": {},
     "output_type": "display_data"
    },
    {
     "name": "stdout",
     "output_type": "stream",
     "text": [
      "49 10 1.067183326724202  \n",
      "Error at iter#50 is 1.067183326724202\n"
     ]
    },
    {
     "data": {
      "application/vnd.jupyter.widget-view+json": {
       "model_id": "634943fae901483884231facad2f044d",
       "version_major": 2,
       "version_minor": 0
      },
      "text/plain": [
       "HBox(children=(HTML(value=''), FloatProgress(value=0.0, max=50.0), HTML(value='')))"
      ]
     },
     "metadata": {},
     "output_type": "display_data"
    },
    {
     "name": "stdout",
     "output_type": "stream",
     "text": [
      "49 47 0.9815168515982359 \n",
      "Error at iter#50 is 0.9815168515982359\n"
     ]
    },
    {
     "data": {
      "application/vnd.jupyter.widget-view+json": {
       "model_id": "93b6446f56a5494f8173a93bde0bd05a",
       "version_major": 2,
       "version_minor": 0
      },
      "text/plain": [
       "HBox(children=(HTML(value=''), FloatProgress(value=0.0, max=50.0), HTML(value='')))"
      ]
     },
     "metadata": {},
     "output_type": "display_data"
    },
    {
     "name": "stdout",
     "output_type": "stream",
     "text": [
      "49 3 1.9800816144402635  \n",
      "Error at iter#50 is 1.0894450890760012\n"
     ]
    },
    {
     "data": {
      "application/vnd.jupyter.widget-view+json": {
       "model_id": "dfbd0d46f59c4a85adc5300b34fd3636",
       "version_major": 2,
       "version_minor": 0
      },
      "text/plain": [
       "HBox(children=(HTML(value=''), FloatProgress(value=0.0, max=50.0), HTML(value='')))"
      ]
     },
     "metadata": {},
     "output_type": "display_data"
    },
    {
     "name": "stdout",
     "output_type": "stream",
     "text": [
      "49 28 2.955466981706284  \n",
      "Error at iter#50 is 1.091786338468696\n"
     ]
    },
    {
     "data": {
      "application/vnd.jupyter.widget-view+json": {
       "model_id": "c594b7ab34794191a7caf8c4f96e3455",
       "version_major": 2,
       "version_minor": 0
      },
      "text/plain": [
       "HBox(children=(HTML(value=''), FloatProgress(value=0.0, max=50.0), HTML(value='')))"
      ]
     },
     "metadata": {},
     "output_type": "display_data"
    },
    {
     "name": "stdout",
     "output_type": "stream",
     "text": [
      "49 9 1.014875340722557 2 \n",
      "Error at iter#50 is 1.014875340722557\n"
     ]
    },
    {
     "data": {
      "application/vnd.jupyter.widget-view+json": {
       "model_id": "bd47f97ae74049f1a01ef922be6df9e0",
       "version_major": 2,
       "version_minor": 0
      },
      "text/plain": [
       "HBox(children=(HTML(value=''), FloatProgress(value=0.0, max=50.0), HTML(value='')))"
      ]
     },
     "metadata": {},
     "output_type": "display_data"
    },
    {
     "name": "stdout",
     "output_type": "stream",
     "text": [
      "49 25 3.3041543011876926 \n",
      "Error at iter#50 is 1.833617802426827\n"
     ]
    },
    {
     "data": {
      "application/vnd.jupyter.widget-view+json": {
       "model_id": "6219286723e44065a00ed979a55c2382",
       "version_major": 2,
       "version_minor": 0
      },
      "text/plain": [
       "HBox(children=(HTML(value=''), FloatProgress(value=0.0, max=50.0), HTML(value='')))"
      ]
     },
     "metadata": {},
     "output_type": "display_data"
    },
    {
     "name": "stdout",
     "output_type": "stream",
     "text": [
      "49 11 2.8587507389869953 \n",
      "Error at iter#50 is 1.1303514252304763\n"
     ]
    },
    {
     "data": {
      "application/vnd.jupyter.widget-view+json": {
       "model_id": "b1567df721a5426385c78dc6e81e404e",
       "version_major": 2,
       "version_minor": 0
      },
      "text/plain": [
       "HBox(children=(HTML(value=''), FloatProgress(value=0.0, max=50.0), HTML(value='')))"
      ]
     },
     "metadata": {},
     "output_type": "display_data"
    },
    {
     "name": "stdout",
     "output_type": "stream",
     "text": [
      "49 18 1.661628483238234  \n",
      "Error at iter#50 is 1.1523436982752902\n"
     ]
    },
    {
     "data": {
      "application/vnd.jupyter.widget-view+json": {
       "model_id": "274b0ac9b3784326b8eb8482d8a8e3cb",
       "version_major": 2,
       "version_minor": 0
      },
      "text/plain": [
       "HBox(children=(HTML(value=''), FloatProgress(value=0.0, max=50.0), HTML(value='')))"
      ]
     },
     "metadata": {},
     "output_type": "display_data"
    },
    {
     "name": "stdout",
     "output_type": "stream",
     "text": [
      "49 43 2.6021214706602938 \n",
      "Error at iter#50 is 1.1627036746861963\n",
      "\n"
     ]
    }
   ],
   "source": [
    "## MLP\n",
    "modeldir = MODL_RT + f'Alessio_Ant+10_User+8_MLP_Intfx1_Pmax-20_Constr+c+e_seed+42/'\n",
    "\n",
    "finalq_mlp = per_from_learning_models(modeldir, L)\n",
    "\n",
    "FINALERROR['PDM'], _, num_sel_mlp = FL_main(\n",
    "    inputs        = inputs,\n",
    "    fl_task       = curr_task,\n",
    "    allocation_scheme = 'PD-MLP',\n",
    "    usernumber    = L, \n",
    "    availnumber   = L,\n",
    "    datanumber    = datanumber,\n",
    "    iteration     = iteration, \n",
    "    iter_epochs   = 1,\n",
    "    averagenumber = averagenumber,\n",
    "    per_ready     = finalq_mlp,\n",
    "    seed          = 0\n",
    ")\n"
   ]
  },
  {
   "cell_type": "markdown",
   "metadata": {},
   "source": [
    "## GCN"
   ]
  },
  {
   "cell_type": "code",
   "execution_count": 15,
   "metadata": {
    "scrolled": false
   },
   "outputs": [
    {
     "data": {
      "application/vnd.jupyter.widget-view+json": {
       "model_id": "9b9d7e51854840d5b54642068b864f94",
       "version_major": 2,
       "version_minor": 0
      },
      "text/plain": [
       "HBox(children=(HTML(value=''), FloatProgress(value=0.0, max=15.0), HTML(value='')))"
      ]
     },
     "metadata": {},
     "output_type": "display_data"
    },
    {
     "data": {
      "application/vnd.jupyter.widget-view+json": {
       "model_id": "20164278701546bf92f5c6c2ea7508d2",
       "version_major": 2,
       "version_minor": 0
      },
      "text/plain": [
       "HBox(children=(HTML(value=''), FloatProgress(value=0.0, max=50.0), HTML(value='')))"
      ]
     },
     "metadata": {},
     "output_type": "display_data"
    },
    {
     "name": "stdout",
     "output_type": "stream",
     "text": [
      "49 44 2.239811079880057  \n",
      "Error at iter#50 is 0.9106839332544754\n"
     ]
    },
    {
     "data": {
      "application/vnd.jupyter.widget-view+json": {
       "model_id": "40edd609bed04a9daea8e832f0789312",
       "version_major": 2,
       "version_minor": 0
      },
      "text/plain": [
       "HBox(children=(HTML(value=''), FloatProgress(value=0.0, max=50.0), HTML(value='')))"
      ]
     },
     "metadata": {},
     "output_type": "display_data"
    },
    {
     "name": "stdout",
     "output_type": "stream",
     "text": [
      "49 37 1.0405694459858268 \n",
      "Error at iter#50 is 0.9396778876748905\n"
     ]
    },
    {
     "data": {
      "application/vnd.jupyter.widget-view+json": {
       "model_id": "ca99fce08b8c423b8cdbf35c70912e0e",
       "version_major": 2,
       "version_minor": 0
      },
      "text/plain": [
       "HBox(children=(HTML(value=''), FloatProgress(value=0.0, max=50.0), HTML(value='')))"
      ]
     },
     "metadata": {},
     "output_type": "display_data"
    },
    {
     "name": "stdout",
     "output_type": "stream",
     "text": [
      "49 40 0.889736870433275  \n",
      "Error at iter#50 is 0.8796349111662428\n"
     ]
    },
    {
     "data": {
      "application/vnd.jupyter.widget-view+json": {
       "model_id": "4ab26cb80e7544289e8d4740410fa209",
       "version_major": 2,
       "version_minor": 0
      },
      "text/plain": [
       "HBox(children=(HTML(value=''), FloatProgress(value=0.0, max=50.0), HTML(value='')))"
      ]
     },
     "metadata": {},
     "output_type": "display_data"
    },
    {
     "name": "stdout",
     "output_type": "stream",
     "text": [
      "49 42 2.8613397903985756 \n",
      "Error at iter#50 is 0.9043247226851652\n"
     ]
    },
    {
     "data": {
      "application/vnd.jupyter.widget-view+json": {
       "model_id": "57f70978e093469a92795031bfd611b4",
       "version_major": 2,
       "version_minor": 0
      },
      "text/plain": [
       "HBox(children=(HTML(value=''), FloatProgress(value=0.0, max=50.0), HTML(value='')))"
      ]
     },
     "metadata": {},
     "output_type": "display_data"
    },
    {
     "name": "stdout",
     "output_type": "stream",
     "text": [
      "49 46 0.9092850670144927 \n",
      "Error at iter#50 is 0.9092850670144927\n"
     ]
    },
    {
     "data": {
      "application/vnd.jupyter.widget-view+json": {
       "model_id": "d53b1129d7ca4d1a99d4f1fa6939d394",
       "version_major": 2,
       "version_minor": 0
      },
      "text/plain": [
       "HBox(children=(HTML(value=''), FloatProgress(value=0.0, max=50.0), HTML(value='')))"
      ]
     },
     "metadata": {},
     "output_type": "display_data"
    },
    {
     "name": "stdout",
     "output_type": "stream",
     "text": [
      "49 35 1.8522075704378889 \n",
      "Error at iter#50 is 0.8875197435251467\n"
     ]
    },
    {
     "data": {
      "application/vnd.jupyter.widget-view+json": {
       "model_id": "46357b4a99ca4960bfb413694d86ad24",
       "version_major": 2,
       "version_minor": 0
      },
      "text/plain": [
       "HBox(children=(HTML(value=''), FloatProgress(value=0.0, max=50.0), HTML(value='')))"
      ]
     },
     "metadata": {},
     "output_type": "display_data"
    },
    {
     "name": "stdout",
     "output_type": "stream",
     "text": [
      "49 10 0.9045596307442669 \n",
      "Error at iter#50 is 0.9045596307442669\n"
     ]
    },
    {
     "data": {
      "application/vnd.jupyter.widget-view+json": {
       "model_id": "1a688a3c8d68486893e4b3f48c667d6f",
       "version_major": 2,
       "version_minor": 0
      },
      "text/plain": [
       "HBox(children=(HTML(value=''), FloatProgress(value=0.0, max=50.0), HTML(value='')))"
      ]
     },
     "metadata": {},
     "output_type": "display_data"
    },
    {
     "name": "stdout",
     "output_type": "stream",
     "text": [
      "49 47 0.9016151624402289 \n",
      "Error at iter#50 is 0.8990036880409029\n"
     ]
    },
    {
     "data": {
      "application/vnd.jupyter.widget-view+json": {
       "model_id": "326d0a7c45d84c24ac73b8e00d134050",
       "version_major": 2,
       "version_minor": 0
      },
      "text/plain": [
       "HBox(children=(HTML(value=''), FloatProgress(value=0.0, max=50.0), HTML(value='')))"
      ]
     },
     "metadata": {},
     "output_type": "display_data"
    },
    {
     "name": "stdout",
     "output_type": "stream",
     "text": [
      "49 3 0.9088488180591557  \n",
      "Error at iter#50 is 0.9083270244787598\n"
     ]
    },
    {
     "data": {
      "application/vnd.jupyter.widget-view+json": {
       "model_id": "d8f90f9acea145699a3604b748af3a43",
       "version_major": 2,
       "version_minor": 0
      },
      "text/plain": [
       "HBox(children=(HTML(value=''), FloatProgress(value=0.0, max=50.0), HTML(value='')))"
      ]
     },
     "metadata": {},
     "output_type": "display_data"
    },
    {
     "name": "stdout",
     "output_type": "stream",
     "text": [
      "49 28 0.8997908971850482 \n",
      "Error at iter#50 is 0.8997908971850482\n"
     ]
    },
    {
     "data": {
      "application/vnd.jupyter.widget-view+json": {
       "model_id": "f799b71a125c437aba323d8920b5a2d2",
       "version_major": 2,
       "version_minor": 0
      },
      "text/plain": [
       "HBox(children=(HTML(value=''), FloatProgress(value=0.0, max=50.0), HTML(value='')))"
      ]
     },
     "metadata": {},
     "output_type": "display_data"
    },
    {
     "name": "stdout",
     "output_type": "stream",
     "text": [
      "49 9 0.95277632917721 05 \n",
      "Error at iter#50 is 0.95277632917721\n"
     ]
    },
    {
     "data": {
      "application/vnd.jupyter.widget-view+json": {
       "model_id": "5b488ee43a2d4638b9e0e6e889f4c966",
       "version_major": 2,
       "version_minor": 0
      },
      "text/plain": [
       "HBox(children=(HTML(value=''), FloatProgress(value=0.0, max=50.0), HTML(value='')))"
      ]
     },
     "metadata": {},
     "output_type": "display_data"
    },
    {
     "name": "stdout",
     "output_type": "stream",
     "text": [
      "49 25 0.8997708916449951 \n",
      "Error at iter#50 is 0.8997708916449951\n"
     ]
    },
    {
     "data": {
      "application/vnd.jupyter.widget-view+json": {
       "model_id": "148e12effbfe4e1bb5df2133b079b126",
       "version_major": 2,
       "version_minor": 0
      },
      "text/plain": [
       "HBox(children=(HTML(value=''), FloatProgress(value=0.0, max=50.0), HTML(value='')))"
      ]
     },
     "metadata": {},
     "output_type": "display_data"
    },
    {
     "name": "stdout",
     "output_type": "stream",
     "text": [
      "49 11 0.9583369165160046 \n",
      "Error at iter#50 is 0.91507443224314\n"
     ]
    },
    {
     "data": {
      "application/vnd.jupyter.widget-view+json": {
       "model_id": "08d8246241a2495fa59deddff7777e98",
       "version_major": 2,
       "version_minor": 0
      },
      "text/plain": [
       "HBox(children=(HTML(value=''), FloatProgress(value=0.0, max=50.0), HTML(value='')))"
      ]
     },
     "metadata": {},
     "output_type": "display_data"
    },
    {
     "name": "stdout",
     "output_type": "stream",
     "text": [
      "49 18 0.9651297326912495 \n",
      "Error at iter#50 is 0.8753047821020629\n"
     ]
    },
    {
     "data": {
      "application/vnd.jupyter.widget-view+json": {
       "model_id": "1f5f922be7544225bcf720f90691cf87",
       "version_major": 2,
       "version_minor": 0
      },
      "text/plain": [
       "HBox(children=(HTML(value=''), FloatProgress(value=0.0, max=50.0), HTML(value='')))"
      ]
     },
     "metadata": {},
     "output_type": "display_data"
    },
    {
     "name": "stdout",
     "output_type": "stream",
     "text": [
      "49 43 0.9237546669786638 \n",
      "Error at iter#50 is 0.9123925825150314\n",
      "\n"
     ]
    }
   ],
   "source": [
    "## GCN\n",
    "modeldir = MODL_RT + f'Alessio_Ant+10_User+8_GCN_Intfx1_Pmax-20_Constr+c+e_seed+42/'\n",
    "\n",
    "finalq_gcn = per_from_learning_models(modeldir, L)\n",
    "\n",
    "FINALERROR['PDG'], _, num_sel_gcn = FL_main(\n",
    "    inputs        = inputs,\n",
    "    fl_task       = curr_task,\n",
    "    allocation_scheme = 'PD-GCN',\n",
    "    usernumber    = L, \n",
    "    availnumber   = L,\n",
    "    datanumber    = datanumber,\n",
    "    iteration     = iteration, \n",
    "    iter_epochs   = 1,\n",
    "    averagenumber = averagenumber,\n",
    "    per_ready     = finalq_gcn,\n",
    "    seed          = 0\n",
    ")"
   ]
  },
  {
   "cell_type": "code",
   "execution_count": 18,
   "metadata": {},
   "outputs": [
    {
     "data": {
      "image/png": "[encoded data removed]",
      "text/plain": [
       "<Figure size 1400x800 with 1 Axes>"
      ]
     },
     "metadata": {
      "needs_background": "light"
     },
     "output_type": "display_data"
    }
   ],
   "source": [
    "\n",
    "[FINALERROR[k].sort(0) for k in FINALERROR.keys()]\n",
    "if curr_task == 'MNIST':\n",
    "    ylabel_string = 'MNIST Prediction Error Rate'\n",
    "    max_scale = 1\n",
    "    y_limits = [None, .36]#[.14, .36]\n",
    "else:\n",
    "    ylabel_string = 'Air Quality Prediction RMSE'\n",
    "    max_scale = test_set.targets.max()\n",
    "    y_limits = None#[None, 0.62]\n",
    "ff = 12\n",
    "\n",
    "pnames = ['Rand','Orth','PDG','PDM','Ideal FL']\n",
    "\n",
    "fig, ax = plt.subplots(figsize=(7,4),dpi=200)\n",
    "markercycle = it.cycle(('o','v','s','^','*','+','x')) \n",
    "for li, lab in enumerate(pnames):\n",
    "    vals = FINALERROR[lab][:ff].mean(0)\n",
    "    color = next(ax._get_lines.prop_cycler)['color']\n",
    "    marker = next(markercycle)\n",
    "    \n",
    "    vv = vals[:50]/max_scale\n",
    "    if li < len(pnames)-1:\n",
    "        ax.plot(vv, markevery=[len(vv)-1], marker=marker, color=color, lw=1.5, label=lab)\n",
    "    else:\n",
    "        color = 'black'\n",
    "        ax.plot(vv, ls='--', color=color, markevery=[len(vv)-1], marker=marker, lw=1, label=lab)\n",
    "        \n",
    "    # error shade\n",
    "    ss = (FINALERROR[lab][:ff]/max_scale).std(0)[:50]\n",
    "    plt.fill_between(range(len(vv)), vv-ss, vv+ss, alpha=0.2, edgecolor='none', facecolor=color)\n",
    "\n",
    "ax.set_ylim(y_limits)\n",
    "plt.tick_params(axis='y', which='minor')\n",
    "ax.yaxis.set_minor_formatter(matplotlib.ticker.FormatStrFormatter(\"%.1f\"))\n",
    "\n",
    "ax.xaxis.set_major_formatter(matplotlib.ticker.FormatStrFormatter(\"%d\"))\n",
    "\n",
    "ax.set_xlabel('FL Global Iteration')\n",
    "ax.set_ylabel(ylabel_string)\n",
    "\n",
    "# refine layout\n",
    "box = ax.get_position()\n",
    "ax.set_position([box.x0, box.y0 + box.height * 0.1,\n",
    "                 box.width, box.height * 0.9])\n",
    "ax.legend()\n",
    "handles, labels = ax.get_legend_handles_labels()\n",
    "labels = pnames\n",
    "ax.legend([handles[0], handles[1], handles[3], handles[2], handles[4]], \n",
    "          [labels[0], labels[1], labels[3], labels[2], labels[4]],\n",
    "         loc='upper center', bbox_to_anchor=(0.45, 1.2), ncol=5)\n",
    "\n",
    "plt.show()\n"
   ]
  },
  {
   "cell_type": "code",
   "execution_count": 34,
   "metadata": {
    "scrolled": false
   },
   "outputs": [
    {
     "data": {
      "image/png": "[encoded data removed]",
      "text/plain": [
       "<Figure size 1400x800 with 1 Axes>"
      ]
     },
     "metadata": {
      "needs_background": "light"
     },
     "output_type": "display_data"
    }
   ],
   "source": [
    "import pandas as pd\n",
    "labels = ['Rand','Orth','PDM','PDG','Ideal FL']\n",
    "num_sel_dict = dict(zip(['Rand','Orth','PDM','PDG','Ideal FL'], \n",
    "                        [d.sum(-1).flatten() for d in [num_sel_rand, num_sel_orth, num_sel_mlp, num_sel_gcn, num_sel]]))\n",
    "df = pd.DataFrame.from_dict(num_sel_dict)\n",
    "\n",
    "plt.figure(figsize=(7,4),dpi=200)\n",
    "plt.boxplot(df[labels], labels=labels)\n",
    "plt.ylabel(\"# of successful transmissions\")\n",
    "plt.show()"
   ]
  }
 ],
 "metadata": {
  "kernelspec": {
   "display_name": "Python 3 (ipykernel)",
   "language": "python",
   "name": "python3"
  },
  "language_info": {
   "codemirror_mode": {
    "name": "ipython",
    "version": 3
   },
   "file_extension": ".py",
   "mimetype": "text/x-python",
   "name": "python",
   "nbconvert_exporter": "python",
   "pygments_lexer": "ipython3",
   "version": "3.8.10"
  }
 },
 "nbformat": 4,
 "nbformat_minor": 4
}
